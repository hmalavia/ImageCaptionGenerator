{
 "cells": [
  {
   "cell_type": "code",
   "execution_count": 1,
   "metadata": {},
   "outputs": [],
   "source": [
    "##Importing libraries\n",
    "import langchain\n",
    "import cv2\n",
    "import os\n",
    "from langchain_openai import ChatOpenAI\n",
    "from dotenv import load_dotenv\n",
    "import base64\n",
    "from langchain_core.prompts import ChatPromptTemplate, MessagesPlaceholder\n",
    "from langchain_core.messages import HumanMessage, SystemMessage\n",
    "from langchain_core.output_parsers import StrOutputParser, JsonOutputParser\n",
    "import matplotlib.pyplot as plt\n",
    "import numpy as np\n",
    "import sys\n",
    "from PIL import Image\n",
    "from ipywidgets import interact, interactive, fixed, interact_manual\n",
    "import ipywidgets as widgets\n",
    "from utils import * \n",
    "%matplotlib inline"
   ]
  },
  {
   "cell_type": "code",
   "execution_count": 2,
   "metadata": {},
   "outputs": [
    {
     "data": {
      "text/plain": [
       "True"
      ]
     },
     "execution_count": 2,
     "metadata": {},
     "output_type": "execute_result"
    }
   ],
   "source": [
    "load_dotenv()"
   ]
  },
  {
   "cell_type": "code",
   "execution_count": 3,
   "metadata": {},
   "outputs": [],
   "source": [
    "llm = ChatOpenAI(\n",
    "    model=\"gpt-4o-mini\",\n",
    "    temperature=0,\n",
    "    max_tokens=2000,\n",
    "    timeout=None,\n",
    "    max_retries=2,\n",
    ")"
   ]
  },
  {
   "cell_type": "code",
   "execution_count": 4,
   "metadata": {},
   "outputs": [],
   "source": [
    "## Initialize empty dict to store results\n",
    "final_res_dict = {}"
   ]
  },
  {
   "cell_type": "code",
   "execution_count": 5,
   "metadata": {},
   "outputs": [
    {
     "data": {
      "application/vnd.jupyter.widget-view+json": {
       "model_id": "68c10e89bedb4cdfb1f99d6f87f6012e",
       "version_major": 2,
       "version_minor": 0
      },
      "text/plain": [
       "interactive(children=(SelectMultiple(description='Select Images:', options=('40522491730_088ca7a49c_o.jpg', 'D…"
      ]
     },
     "metadata": {},
     "output_type": "display_data"
    }
   ],
   "source": [
    "@interact_manual\n",
    "def run_interactive(selected_images = widgets.SelectMultiple(options=get_file_names('images'),disabled=False,style={'description_width':'initial'},description='Select Images:')):\n",
    "    global llm\n",
    "    res_dict = genrate_caption(\n",
    "                            llm=llm,\n",
    "                            system_prompt_file='system_prompt.txt',\n",
    "                            image_list=selected_images)\n",
    "    final_res_dict.update(res_dict)\n",
    "    save_output(final_result_dict=final_res_dict)"
   ]
  },
  {
   "cell_type": "code",
   "execution_count": 6,
   "metadata": {},
   "outputs": [
    {
     "data": {
      "text/plain": [
       "{'DSC03764.jpg': 'Beneath the stars, he stood in awe, as city lights danced like dreams in the night, a moment of peace amidst the hum of life.',\n",
       " 'DSC04165.jpg': \"On the mountain's edge, he gazed afar, where twinkling lights whispered tales of hope, igniting his spirit with the promise of tomorrow.\"}"
      ]
     },
     "execution_count": 6,
     "metadata": {},
     "output_type": "execute_result"
    }
   ],
   "source": [
    "final_res_dict"
   ]
  },
  {
   "cell_type": "code",
   "execution_count": 7,
   "metadata": {},
   "outputs": [],
   "source": [
    "regenerate_prompt = ChatPromptTemplate.from_messages(\n",
    "    [\n",
    "    (\"system\", \"{system_prompt}\"),\n",
    "    (\"user\",\n",
    "     [\n",
    "         {\n",
    "             \"type\":\"text\",\n",
    "             \"text\":\"Image file name: {image_file_name}.You generated the following output for the given image.\\n {initial_output} \\n. Regenerate a different and better output following your system instruction for the image given below.\"\n",
    "             \n",
    "         },\n",
    "         {\n",
    "                    \"type\": \"image_url\",\n",
    "                    \"image_url\": {\"url\": \"data:image/jpeg;base64,{base64_image}\"},\n",
    "          }\n",
    "      ]\n",
    "    )\n",
    "])\n",
    "\n",
    "parser = JsonOutputParser()\n",
    "\n",
    "regenerate_chain = regenerate_prompt|llm|parser"
   ]
  },
  {
   "cell_type": "code",
   "execution_count": null,
   "metadata": {},
   "outputs": [],
   "source": [
    "with open('final_output.json','r') as file:\n",
    "    final_res_dict = json.load(file)\n",
    "final_res_dict"
   ]
  },
  {
   "cell_type": "code",
   "execution_count": null,
   "metadata": {},
   "outputs": [
    {
     "data": {
      "application/vnd.jupyter.widget-view+json": {
       "model_id": "83851946115d4e29a2442b04c0eadc90",
       "version_major": 2,
       "version_minor": 0
      },
      "text/plain": [
       "interactive(children=(SelectMultiple(description='Select Image file:', options=('DSC03764.jpg', 'DSC04165.jpg'…"
      ]
     },
     "metadata": {},
     "output_type": "display_data"
    }
   ],
   "source": [
    "@interact_manual\n",
    "def f(d = widgets.SelectMultiple(options=final_res_dict.keys(),disabled=False,style={'description_width':'initial'},description='Select Image file:')):\n",
    "    regen_dict = {k:v for (k,v) in final_res_dict.items() if k in d}\n",
    "    regen_results = {}\n",
    "    for k,v in regen_dict.items():\n",
    "        res_dict = regenrate_caption(chain=regenerate_chain,\n",
    "                                     system_prompt=generate_sytem_prompt(sys_prompt_file='system_prompt.txt'),\n",
    "                                     image_file_name=k,\n",
    "                                     initial_output=v)\n",
    "        regen_results.update(res_dict)\n",
    "    final_res_dict.update(regen_results)\n",
    "    save_output(final_result_dict=final_res_dict)\n",
    "    display_results(regen_results)"
   ]
  },
  {
   "cell_type": "code",
   "execution_count": 9,
   "metadata": {},
   "outputs": [
    {
     "data": {
      "text/plain": [
       "{'DSC03764.jpg': 'Beneath the stars, he stood in awe, as city lights danced like dreams in the night, a moment of peace amidst the hum of life.',\n",
       " 'DSC04165.jpg': {'DSC04165.jpg': 'Beneath the vast, starry sky, he stood in silence, where dreams danced like distant lights, weaving a tapestry of hope and wonder in the night.'}}"
      ]
     },
     "execution_count": 9,
     "metadata": {},
     "output_type": "execute_result"
    }
   ],
   "source": [
    "final_res_dict"
   ]
  }
 ],
 "metadata": {
  "kernelspec": {
   "display_name": ".virenv",
   "language": "python",
   "name": "python3"
  },
  "language_info": {
   "codemirror_mode": {
    "name": "ipython",
    "version": 3
   },
   "file_extension": ".py",
   "mimetype": "text/x-python",
   "name": "python",
   "nbconvert_exporter": "python",
   "pygments_lexer": "ipython3",
   "version": "3.10.0"
  }
 },
 "nbformat": 4,
 "nbformat_minor": 2
}
